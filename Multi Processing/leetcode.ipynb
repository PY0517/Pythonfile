{
 "cells": [
  {
   "cell_type": "code",
   "execution_count": 4,
   "metadata": {},
   "outputs": [],
   "source": [
    "nums=[2,7,11,15]\n",
    "target = 9\n",
    "class Solution:\n",
    "    def twoSum(self, nums: [int],  target: int) -> [int]:\n",
    "        s=len(nums)\n",
    "        for i in range(s-1):\n",
    "            for j in range(i+1,s):\n",
    "                if nums[i]+nums[j]==target:\n",
    "                    return [i,j]\n",
    "        return []"
   ]
  },
  {
   "cell_type": "code",
   "execution_count": 12,
   "metadata": {},
   "outputs": [
    {
     "name": "stdout",
     "output_type": "stream",
     "text": [
      "0\n",
      "1\n",
      "2\n"
     ]
    }
   ],
   "source": [
    "nums=[2,7,11,15]\n",
    "s=len(nums)\n",
    "for i in range(s-1):\n",
    "    print(i)"
   ]
  },
  {
   "cell_type": "code",
   "execution_count": 22,
   "metadata": {},
   "outputs": [
    {
     "name": "stdout",
     "output_type": "stream",
     "text": [
      "4\n",
      "1 2\n"
     ]
    }
   ],
   "source": [
    "n=[1,20,30,4]\n",
    "target=50\n",
    "print(len(n))\n",
    "for i in range(len(n)):\n",
    "    for j in range(i+1,len(n)):\n",
    "        if n[i]+n[j]==target:\n",
    "            print(i,j)"
   ]
  },
  {
   "cell_type": "code",
   "execution_count": 27,
   "metadata": {},
   "outputs": [
    {
     "name": "stdout",
     "output_type": "stream",
     "text": [
      "None\n"
     ]
    }
   ],
   "source": [
    "nums1 = [1,2,3,0,0,0]\n",
    "m = 3\n",
    "nums2 = [2,5,6]\n",
    "n = 3\n",
    "#def sort_method(self,nums1,m,nums2,n):\n",
    "for i in range(n):\n",
    "    nums1[m+i]=nums2[i]\n",
    "res=nums1.sort()\n",
    "print(res)\n"
   ]
  }
 ],
 "metadata": {
  "kernelspec": {
   "display_name": "Python 3",
   "language": "python",
   "name": "python3"
  },
  "language_info": {
   "codemirror_mode": {
    "name": "ipython",
    "version": 3
   },
   "file_extension": ".py",
   "mimetype": "text/x-python",
   "name": "python",
   "nbconvert_exporter": "python",
   "pygments_lexer": "ipython3",
   "version": "3.11.3"
  },
  "orig_nbformat": 4
 },
 "nbformat": 4,
 "nbformat_minor": 2
}
