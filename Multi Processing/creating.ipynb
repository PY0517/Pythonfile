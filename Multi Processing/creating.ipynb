{
 "cells": [
  {
   "cell_type": "markdown",
   "metadata": {},
   "source": [
    "Multi-Processing in python\n",
    "\n",
    "Multiprocessing is a python module that provides a simple way to run multiple processes in parallel.\n",
    "\n",
    "It allows you to take advantage of multiple cores of processors on your system and can significantly improve the performance of the code.\n",
    "\n",
    "It looks at the multiprocessing module that various functions and how they can be used in python\n",
    "\n",
    "\n",
    "we have to use Multiprocessing module \n",
    "then we have to import that module by using import keyword\n",
    "\n",
    "#import multiprocessing\n",
    "\n",
    "Now, to use multiprocessing we need to create a (process object) which calls a start() method.\n",
    "the start() method runs the process and then to stop the execution,\n",
    "we use the join() method.\n",
    "Here we can create a simple process"
   ]
  },
  {
   "cell_type": "code",
   "execution_count": 2,
   "metadata": {},
   "outputs": [
    {
     "name": "stdout",
     "output_type": "stream",
     "text": [
      "Hello from process MainProcess\n"
     ]
    }
   ],
   "source": [
    "import multiprocessing\n",
    "def my_func():\n",
    "    print(\"Hello from process\", multiprocessing.current_process().name)\n",
    "    process=multiprocessing.Process(target=my_func)\n",
    "    process.start()\n",
    "    process.join()\n",
    "my_func()"
   ]
  }
 ],
 "metadata": {
  "kernelspec": {
   "display_name": "Python 3",
   "language": "python",
   "name": "python3"
  },
  "language_info": {
   "codemirror_mode": {
    "name": "ipython",
    "version": 3
   },
   "file_extension": ".py",
   "mimetype": "text/x-python",
   "name": "python",
   "nbconvert_exporter": "python",
   "pygments_lexer": "ipython3",
   "version": "3.11.3"
  },
  "orig_nbformat": 4
 },
 "nbformat": 4,
 "nbformat_minor": 2
}
