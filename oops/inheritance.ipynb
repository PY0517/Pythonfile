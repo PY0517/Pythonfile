{
 "cells": [
  {
   "cell_type": "code",
   "execution_count": 16,
   "metadata": {},
   "outputs": [
    {
     "name": "stdout",
     "output_type": "stream",
     "text": [
      "My age is  22\n",
      "I can Flirt\n",
      "My Name is prasad\n",
      "Phone number is 9625504627\n"
     ]
    }
   ],
   "source": [
    "class human:\n",
    "    def __init__(self):\n",
    "        self.name=\"prasad\"\n",
    "        self.age=22\n",
    "        self.height=\"5.11ft\"\n",
    "        self.weight=\"60kgs\"\n",
    "class child(human):\n",
    "    def __init__(self,phone):\n",
    "        super().__init__()\n",
    "        self.phone=phone\n",
    "    def eat(self):\n",
    "        print(\"I can Eat\")\n",
    "    def flirt(self):\n",
    "        print(\"I can Flirt\")\n",
    "child1=child(\"9625504627\")\n",
    "print(\"My age is \",child1.age)\n",
    "child1.flirt()\n",
    "print(\"My Name is\",child1.name)\n",
    "print(\"Phone number is\",child1.phone)"
   ]
  }
 ],
 "metadata": {
  "kernelspec": {
   "display_name": "Python 3",
   "language": "python",
   "name": "python3"
  },
  "language_info": {
   "codemirror_mode": {
    "name": "ipython",
    "version": 3
   },
   "file_extension": ".py",
   "mimetype": "text/x-python",
   "name": "python",
   "nbconvert_exporter": "python",
   "pygments_lexer": "ipython3",
   "version": "3.11.3"
  }
 },
 "nbformat": 4,
 "nbformat_minor": 2
}
