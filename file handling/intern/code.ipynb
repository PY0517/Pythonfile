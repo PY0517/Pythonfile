{
 "cells": [
  {
   "cell_type": "code",
   "execution_count": 7,
   "metadata": {},
   "outputs": [
    {
     "name": "stdout",
     "output_type": "stream",
     "text": [
      "2\n",
      "1\n"
     ]
    }
   ],
   "source": [
    "def maxMoves(grid):\n",
    "    m = len(grid)\n",
    "    n = len(grid[0])\n",
    "\n",
    "    # Initialize a 2D DP array to store the maximum moves at each cell.\n",
    "    dp = [[0] * n for _ in range(m)]\n",
    "\n",
    "    # Initialize the DP array for the first column.\n",
    "    for i in range(m):\n",
    "        dp[i][0] = 1\n",
    "\n",
    "    # Iterate through the matrix to fill the DP array.\n",
    "    for j in range(1, n):\n",
    "        for i in range(m):\n",
    "            for di in [-1, 0, 1]:\n",
    "                new_row = i + di\n",
    "                if 0 <= new_row < m and grid[new_row][j] > grid[i][j - 1]:\n",
    "                    dp[i][j] = max(dp[i][j], dp[new_row][j - 1] + 1)\n",
    "\n",
    "    # Find the maximum value in the last column of the DP array.\n",
    "    maxMove = max(dp[i][n - 1] for i in range(m))\n",
    "\n",
    "    return maxMove\n",
    "\n",
    "# Example usage:\n",
    "grid1 = [[2, 4, 3, 5], [5, 4, 9, 3], [3, 4, 2, 11], [10, 9, 13, 15]]\n",
    "grid2 = [[3, 2, 4], [2, 1, 9], [1, 1, 7]]\n",
    "\n",
    "print(maxMoves(grid1))  # Output: 3\n",
    "print(maxMoves(grid2))  # Output: 0\n"
   ]
  },
  {
   "cell_type": "code",
   "execution_count": null,
   "metadata": {},
   "outputs": [],
   "source": [
    "grid1 = [[2, 4, 3, 5], [5, 4, 9, 3], [3, 4, 2, 11], [10, 9, 13, 15]]\n",
    "grid2 = [[3, 2, 4], [2, 1, 9], [1, 1, 7]]"
   ]
  },
  {
   "cell_type": "code",
   "execution_count": null,
   "metadata": {},
   "outputs": [],
   "source": [
    "def maxMoves(grid):\n",
    "    m = len(grid)\n",
    "    n = len(grid[0])\n",
    "    res = [[0] * n for _ in range(m)]\n",
    "    for i in range(m):\n",
    "        res[i][0] = 1\n",
    "    for j in range(1, n):\n",
    "        for i in range(m):\n",
    "            for s in [-1, 0, 1]:\n",
    "                new_row = i + s\n",
    "                if 0 <= new_row < m and grid[new_row][j] > grid[i][j - 1]:\n",
    "                    res[i][j] = max(res[i][j], res[new_row][j - 1] + 1)\n",
    "\n",
    "    maxMove = max(res[i][n - 1] for i in range(m))\n",
    "\n",
    "    return maxMove\n",
    "\n",
    "m = int(input(\"Enter the number of rows (2-10): \"))\n",
    "n = int(input(\"Enter the number of columns (2-10): \"))\n",
    "\n",
    "grid = []\n",
    "for i in range(m):\n",
    "    row = list(map(int, input(f\"Enter {n} integers for row {i+1}: \").split()))\n",
    "    grid.append(row)\n",
    "\n",
    "result = maxMoves(grid)\n",
    "print(f\"Maximum Moves: {result}\")"
   ]
  }
 ],
 "metadata": {
  "kernelspec": {
   "display_name": "Python 3",
   "language": "python",
   "name": "python3"
  },
  "language_info": {
   "codemirror_mode": {
    "name": "ipython",
    "version": 3
   },
   "file_extension": ".py",
   "mimetype": "text/x-python",
   "name": "python",
   "nbconvert_exporter": "python",
   "pygments_lexer": "ipython3",
   "version": "3.11.3"
  }
 },
 "nbformat": 4,
 "nbformat_minor": 2
}
