{
 "cells": [
  {
   "cell_type": "code",
   "execution_count": 2,
   "metadata": {},
   "outputs": [
    {
     "name": "stdout",
     "output_type": "stream",
     "text": [
      "26\n"
     ]
    }
   ],
   "source": [
    "fp=open(\"demo.txt\",'w')\n",
    "fp.write(\"How this process will work\")\n",
    "var=fp.tell()\n",
    "print(var)\n",
    "fp.close()"
   ]
  },
  {
   "cell_type": "code",
   "execution_count": 4,
   "metadata": {},
   "outputs": [
    {
     "name": "stdout",
     "output_type": "stream",
     "text": [
      "How this process will work\n"
     ]
    }
   ],
   "source": [
    "fp=open('demo.txt','r')\n",
    "var=fp.read()\n",
    "print(var)\n",
    "fp.close()"
   ]
  },
  {
   "cell_type": "code",
   "execution_count": 18,
   "metadata": {},
   "outputs": [],
   "source": [
    "fp=open('demo.txt','a')\n",
    "fp.write(\"This process have modes read write and append\")\n",
    "fp.close()"
   ]
  },
  {
   "cell_type": "code",
   "execution_count": 23,
   "metadata": {},
   "outputs": [
    {
     "name": "stdout",
     "output_type": "stream",
     "text": [
      "How this process will workThis process have 3 modes read write and appendThis process have 3 modes read write and appendThis process have 3 modes read write and append This process have 3 modes read write and appendThis process have 3 modes read write and appendThis process have 3 modes read write and appendThis process have modes read write and append\n",
      "354\n"
     ]
    }
   ],
   "source": [
    "fp=open('demo.txt','r')\n",
    "res=fp.read()\n",
    "print(res)\n",
    "print(fp.tell())\n",
    "fp.close()"
   ]
  },
  {
   "cell_type": "code",
   "execution_count": 22,
   "metadata": {},
   "outputs": [
    {
     "name": "stdout",
     "output_type": "stream",
     "text": [
      "\n"
     ]
    }
   ],
   "source": [
    "fp=open('file.txt','w+')\n",
    "fp.write(\"This is programming language\")\n",
    "res=fp.read()\n",
    "print(res)\n",
    "fp.close()"
   ]
  },
  {
   "cell_type": "code",
   "execution_count": 26,
   "metadata": {},
   "outputs": [
    {
     "name": "stdout",
     "output_type": "stream",
     "text": [
      "\n",
      "35\n"
     ]
    }
   ],
   "source": [
    "fp=open(\"file.txt\",\"w+\")\n",
    "fp.write(\"this language is python programming\") #This write mode is overridden the old write operation.\n",
    "res=fp.read()\n",
    "print(res)\n",
    "print(fp.tell())\n",
    "fp.close()"
   ]
  },
  {
   "cell_type": "code",
   "execution_count": 27,
   "metadata": {},
   "outputs": [
    {
     "name": "stdout",
     "output_type": "stream",
     "text": [
      "this language is python programming\n"
     ]
    }
   ],
   "source": [
    "fp=open(\"file.txt\",\"r+\")\n",
    "res=fp.read()\n",
    "print(res)\n",
    "fp.write(\"python is a general purpose programming language\")\n",
    "fp.close()"
   ]
  },
  {
   "cell_type": "code",
   "execution_count": 29,
   "metadata": {},
   "outputs": [],
   "source": [
    "fp=open(\"file.txt\",\"r+\")\n",
    "fp.write(\"and also it is a multi oriented programming language\")\n",
    "res=fp.read()\n",
    "fp.close()"
   ]
  }
 ],
 "metadata": {
  "kernelspec": {
   "display_name": "Python 3",
   "language": "python",
   "name": "python3"
  },
  "language_info": {
   "codemirror_mode": {
    "name": "ipython",
    "version": 3
   },
   "file_extension": ".py",
   "mimetype": "text/x-python",
   "name": "python",
   "nbconvert_exporter": "python",
   "pygments_lexer": "ipython3",
   "version": "3.11.3"
  }
 },
 "nbformat": 4,
 "nbformat_minor": 2
}
