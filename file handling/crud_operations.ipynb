{
 "cells": [
  {
   "cell_type": "code",
   "execution_count": 16,
   "metadata": {},
   "outputs": [],
   "source": [
    "data=\"\"\"Python is a high-level, general-purpose programming language. Its design philosophy emphasizes code readability with the use of significant indentation. Python is dynamically typed and garbage-collected. It supports multiple programming paradigms, including structured, object-oriented and functional programming.\"\"\"\n",
    "\n",
    "def writefile(file,data=None):\n",
    "    fp=open(file,\"w\")\n",
    "    fp.write(data)\n",
    "    fp.close()\n",
    "writefile(\"python.txt\",data)\n",
    "\n",
    "\n",
    "def readfiles(file,data=None):\n",
    "    fp=open(file,\"r\")\n",
    "    res=fp.read(data)\n",
    "    fp.close()\n",
    "    return res\n",
    "# readfiles(\"python.txt\")\n",
    "\n",
    "def appendfiles(file,data=None):\n",
    "    fp=open(file,\"a\")\n",
    "    fp.write(data)\n",
    "    fp.close()\n",
    "# appendfiles(\"python.txt\",data)"
   ]
  },
  {
   "cell_type": "code",
   "execution_count": 18,
   "metadata": {},
   "outputs": [
    {
     "data": {
      "text/plain": [
       "3"
      ]
     },
     "execution_count": 18,
     "metadata": {},
     "output_type": "execute_result"
    }
   ],
   "source": [
    "def occur(coll,ele):\n",
    "    count=0\n",
    "    for i in range(0,len(coll)):\n",
    "        if ele.upper()==coll[i:len(ele)+i].upper():\n",
    "            count+=1\n",
    "    return count\n",
    "occur(data,\"programming\")\n"
   ]
  }
 ],
 "metadata": {
  "kernelspec": {
   "display_name": "Python 3",
   "language": "python",
   "name": "python3"
  },
  "language_info": {
   "codemirror_mode": {
    "name": "ipython",
    "version": 3
   },
   "file_extension": ".py",
   "mimetype": "text/x-python",
   "name": "python",
   "nbconvert_exporter": "python",
   "pygments_lexer": "ipython3",
   "version": "3.11.3"
  }
 },
 "nbformat": 4,
 "nbformat_minor": 2
}
