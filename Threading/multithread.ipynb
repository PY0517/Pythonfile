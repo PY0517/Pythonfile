{
 "cells": [
  {
   "cell_type": "code",
   "execution_count": 1,
   "metadata": {},
   "outputs": [
    {
     "name": "stdout",
     "output_type": "stream",
     "text": [
      "The number is 1\n",
      "The number is 2\n",
      "The number is 3\n",
      "The number is 4\n",
      "The number is 5\n",
      "The double of the number is  2\n",
      "The double of the number is  4\n",
      "The double of the number is  6\n",
      "The double of the number is  8\n",
      "The double of the number is  10\n",
      "The Squrae of the number is 1\n",
      "The Squrae of the number is 4\n",
      "The Squrae of the number is 9\n",
      "The Squrae of the number is 16\n",
      "The Squrae of the number is 25\n",
      "This is the main thread\n"
     ]
    }
   ],
   "source": [
    "from threading import *\n",
    "class multi:\n",
    "    def num(self):\n",
    "        for i in range(1,6):\n",
    "            print(\"The number is\", i)\n",
    "    def double(self):\n",
    "        for i in range(1,6):\n",
    "            print(\"The double of the number is \",2*i)\n",
    "    def square(self):\n",
    "        for i in range(1,6):\n",
    "            print(\"The Squrae of the number is\",i*i)\n",
    "obj=multi()\n",
    "t1=Thread(target=obj.num)\n",
    "t2=Thread(target=obj.double)\n",
    "t3=Thread(target=obj.square)\n",
    "\n",
    "t1.start()\n",
    "t2.start()\n",
    "t3.start()\n",
    "\n",
    "t1.join()\n",
    "t2.join()\n",
    "t3.join()\n",
    "\n",
    "print(\"This is the main thread\")\n"
   ]
  }
 ],
 "metadata": {
  "kernelspec": {
   "display_name": "Python 3",
   "language": "python",
   "name": "python3"
  },
  "language_info": {
   "codemirror_mode": {
    "name": "ipython",
    "version": 3
   },
   "file_extension": ".py",
   "mimetype": "text/x-python",
   "name": "python",
   "nbconvert_exporter": "python",
   "pygments_lexer": "ipython3",
   "version": "3.11.3"
  },
  "orig_nbformat": 4
 },
 "nbformat": 4,
 "nbformat_minor": 2
}
