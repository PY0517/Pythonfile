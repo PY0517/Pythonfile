{
 "cells": [
  {
   "cell_type": "code",
   "execution_count": 2,
   "metadata": {},
   "outputs": [
    {
     "name": "stdout",
     "output_type": "stream",
     "text": [
      "The -5 is Negative\n"
     ]
    }
   ],
   "source": [
    "#Positive or Negative number\n",
    "n=int(input(\"Enter the value:\"))\n",
    "if n>=0:\n",
    "    print(f\"The {n} is Positive\")\n",
    "else:\n",
    "    print(f\"The {n} is Negative\")"
   ]
  },
  {
   "cell_type": "code",
   "execution_count": 5,
   "metadata": {},
   "outputs": [
    {
     "name": "stdout",
     "output_type": "stream",
     "text": [
      "The 14 is Even number\n"
     ]
    }
   ],
   "source": [
    "#Even or Odd number\n",
    "n=int(input(\"Enter the value:\"))\n",
    "if n%2==0:\n",
    "    print(f\"The {n} is Even number\")\n",
    "else:\n",
    "    print(f\"The {n} is odd number\")"
   ]
  },
  {
   "cell_type": "code",
   "execution_count": 5,
   "metadata": {},
   "outputs": [
    {
     "name": "stdout",
     "output_type": "stream",
     "text": [
      "15\n"
     ]
    }
   ],
   "source": [
    "#Sum of First N Natural numbers\n",
    "n=int(input(\"Enter the value:\"))\n",
    "sum=0\n",
    "for i in range(n+1):\n",
    "    sum+=i\n",
    "print(sum)"
   ]
  },
  {
   "cell_type": "code",
   "execution_count": 4,
   "metadata": {},
   "outputs": [
    {
     "name": "stdout",
     "output_type": "stream",
     "text": [
      "75\n"
     ]
    }
   ],
   "source": [
    "#Sum of numbers in a given range\n",
    "n=10\n",
    "m=15\n",
    "sum=0\n",
    "for i in range(n,m+1):\n",
    "    sum+=i\n",
    "print(sum)"
   ]
  },
  {
   "cell_type": "code",
   "execution_count": 18,
   "metadata": {},
   "outputs": [
    {
     "name": "stdout",
     "output_type": "stream",
     "text": [
      "25 is greater than 20\n"
     ]
    }
   ],
   "source": [
    "#Greatest of two numbers\n",
    "n,m=20,25\n",
    "if n>m:\n",
    "    print(f\"{n} is greater than {m}\")\n",
    "else:\n",
    "    print(f\"{m} is greater than {n}\")"
   ]
  },
  {
   "cell_type": "code",
   "execution_count": 28,
   "metadata": {},
   "outputs": [
    {
     "name": "stdout",
     "output_type": "stream",
     "text": [
      "30 is greater\n"
     ]
    }
   ],
   "source": [
    "#Greatest of the Three numbers\n",
    "n,m,k=10,20,30\n",
    "if n>m and n>k:\n",
    "    print(n, \"is greater\")\n",
    "elif m>k and m>n:\n",
    "    print(m,\"is greater\")\n",
    "elif k>n and k>m:\n",
    "    print(k,\"is greater\")"
   ]
  },
  {
   "cell_type": "code",
   "execution_count": 42,
   "metadata": {},
   "outputs": [
    {
     "name": "stdout",
     "output_type": "stream",
     "text": [
      "2020 is Leap year\n"
     ]
    }
   ],
   "source": [
    "#Leap year or not\n",
    "n=2020\n",
    "if n%400==0 or (n%4==0 and n%100!=0):\n",
    "    print(n,\"is Leap year\")\n",
    "else:\n",
    "    print(n, \"is not Leap year\")"
   ]
  },
  {
   "cell_type": "code",
   "execution_count": 2,
   "metadata": {},
   "outputs": [
    {
     "name": "stdout",
     "output_type": "stream",
     "text": [
      "4 is not a prime number\n"
     ]
    }
   ],
   "source": [
    "#Prime number\n",
    "n=4\n",
    "for i in range(2,n):\n",
    "    if n%i==0:\n",
    "        print(n,\"is not a prime number\")\n",
    "        break\n",
    "else:\n",
    "    print(n,\"is a prime number\")"
   ]
  },
  {
   "cell_type": "code",
   "execution_count": 60,
   "metadata": {},
   "outputs": [
    {
     "name": "stdout",
     "output_type": "stream",
     "text": [
      "1 2 3 5 7 11 13 17 19 23 29 31 37 41 43 47 53 59 61 67 71 73 79 83 89 97 "
     ]
    }
   ],
   "source": [
    "#Prime number within a given range\n",
    "for i in range(1,100):\n",
    "    var=0\n",
    "    for j in range(2,i):\n",
    "        if i%j==0:\n",
    "            var+=1\n",
    "            break\n",
    "    if var==0:\n",
    "        print(i,end=\" \")\n"
   ]
  },
  {
   "cell_type": "code",
   "execution_count": 10,
   "metadata": {},
   "outputs": [
    {
     "name": "stdout",
     "output_type": "stream",
     "text": [
      "0 1 1 2 3 5 8 13 21 34 55 "
     ]
    }
   ],
   "source": [
    "#fibonacci series\n",
    "a=0\n",
    "b=1\n",
    "print(a,b,end=\" \")\n",
    "for i in range(9):\n",
    "    c=a+b\n",
    "    a=b\n",
    "    b=c\n",
    "    print(c,end=\" \")"
   ]
  },
  {
   "cell_type": "code",
   "execution_count": 11,
   "metadata": {},
   "outputs": [
    {
     "name": "stdout",
     "output_type": "stream",
     "text": [
      "55\n"
     ]
    }
   ],
   "source": [
    "# Fibonacci series by using Recursion\n",
    "def Fibonacci(n):\n",
    "    if n<0:\n",
    "        print(\"incorrect input\")\n",
    "    elif n==0:\n",
    "        return 0\n",
    "    elif n==1 or n==2:\n",
    "        return 1\n",
    "    else:\n",
    "        return Fibonacci(n-1)+Fibonacci(n-2)\n",
    "print(Fibonacci(9+1))"
   ]
  },
  {
   "cell_type": "code",
   "execution_count": 19,
   "metadata": {},
   "outputs": [
    {
     "name": "stdout",
     "output_type": "stream",
     "text": [
      "120\n"
     ]
    }
   ],
   "source": [
    "# factorial number\n",
    "n=5\n",
    "fact=1\n",
    "for i in range(1,n+1):\n",
    "    fact=fact*i\n",
    "print(fact)"
   ]
  },
  {
   "cell_type": "code",
   "execution_count": 22,
   "metadata": {},
   "outputs": [
    {
     "name": "stdout",
     "output_type": "stream",
     "text": [
      "1\n",
      "2\n",
      "6\n",
      "24\n",
      "120\n",
      "720\n"
     ]
    }
   ],
   "source": [
    "n=6\n",
    "fact=1\n",
    "i=1\n",
    "while i<=n:\n",
    "    fact=fact*i\n",
    "    i+=1\n",
    "    print(fact)"
   ]
  },
  {
   "cell_type": "code",
   "execution_count": 25,
   "metadata": {},
   "outputs": [
    {
     "data": {
      "text/plain": [
       "24"
      ]
     },
     "execution_count": 25,
     "metadata": {},
     "output_type": "execute_result"
    }
   ],
   "source": [
    "# Factorial number by using Recursion \n",
    "def factorial(n):\n",
    "    if n==0:\n",
    "        return 1\n",
    "    else:\n",
    "        return n*factorial(n-1)\n",
    "factorial(4)"
   ]
  },
  {
   "cell_type": "code",
   "execution_count": 1,
   "metadata": {},
   "outputs": [
    {
     "name": "stdout",
     "output_type": "stream",
     "text": [
      "153 is Amstrong number\n"
     ]
    }
   ],
   "source": [
    "# Amstrong number\n",
    "num=153\n",
    "sum=0\n",
    "var=num\n",
    "while var>0:\n",
    "    n=var%10\n",
    "    sum+=n**3\n",
    "    var//=10\n",
    "if num==sum:\n",
    "    print(num,\"is Amstrong number\")\n",
    "else:\n",
    "    print(num,\"is not Amstrong number\")"
   ]
  },
  {
   "cell_type": "code",
   "execution_count": 7,
   "metadata": {},
   "outputs": [
    {
     "name": "stdout",
     "output_type": "stream",
     "text": [
      "153 is amstrong number\n"
     ]
    }
   ],
   "source": [
    "#Amstong number by using Recursion\n",
    "def amstrong(num,n1,sum,temp):\n",
    "    if temp==0:\n",
    "        if num==sum:\n",
    "            return True\n",
    "        else:\n",
    "            return False\n",
    "    digit=temp%10\n",
    "    sum+=digit**n1\n",
    "    temp//=10\n",
    "    return amstrong(num,n1,sum,temp)\n",
    "num=153\n",
    "n1=len(str(num))\n",
    "sum=0\n",
    "temp=num\n",
    "res=amstrong(num,n1,sum,temp)\n",
    "if res:\n",
    "    print(num,\"is amstrong number\")\n",
    "else:\n",
    "    print(num,\"is not amstrong\")"
   ]
  },
  {
   "cell_type": "code",
   "execution_count": 10,
   "metadata": {},
   "outputs": [
    {
     "name": "stdout",
     "output_type": "stream",
     "text": [
      "153 is amstrong number\n"
     ]
    }
   ],
   "source": [
    "#amstrong number by using function\n",
    "def check_amstrong(n,sum,var):\n",
    "    var=n\n",
    "    while var>0:\n",
    "        num=var%10\n",
    "        sum+=num**3\n",
    "        var//=10\n",
    "    if n==sum:\n",
    "        print(n,\"is amstrong number\")\n",
    "    else:\n",
    "        print(n,\"is not amstrong\")\n",
    "check_amstrong(153,0,var)"
   ]
  },
  {
   "cell_type": "code",
   "execution_count": 15,
   "metadata": {},
   "outputs": [
    {
     "name": "stdout",
     "output_type": "stream",
     "text": [
      "the number is perfect\n"
     ]
    }
   ],
   "source": [
    "#perfect number\n",
    "num=28\n",
    "sum=0\n",
    "for i in range(1,num):\n",
    "    if num%i==0:\n",
    "        sum+=i\n",
    "if sum==num:\n",
    "    print(\"the number is perfect\")\n",
    "else:\n",
    "    print(\"the number is not perfect\")"
   ]
  },
  {
   "cell_type": "code",
   "execution_count": 27,
   "metadata": {},
   "outputs": [
    {
     "name": "stdout",
     "output_type": "stream",
     "text": [
      "28 is perfect number\n"
     ]
    }
   ],
   "source": [
    "#perfect number by using recursion\n",
    "def perfect(n,x=1,sum=0):\n",
    "    if x>=n:\n",
    "        return sum==n\n",
    "    else:\n",
    "        if n%x==0:\n",
    "            sum+=x\n",
    "        return perfect(n,x+1,sum)\n",
    "n=28\n",
    "if perfect(n):\n",
    "    print(n,\"is perfect number\")\n",
    "else:\n",
    "    print(n,\"is not a perfect number\")"
   ]
  }
 ],
 "metadata": {
  "kernelspec": {
   "display_name": "Python 3",
   "language": "python",
   "name": "python3"
  },
  "language_info": {
   "codemirror_mode": {
    "name": "ipython",
    "version": 3
   },
   "file_extension": ".py",
   "mimetype": "text/x-python",
   "name": "python",
   "nbconvert_exporter": "python",
   "pygments_lexer": "ipython3",
   "version": "3.11.3"
  }
 },
 "nbformat": 4,
 "nbformat_minor": 2
}
